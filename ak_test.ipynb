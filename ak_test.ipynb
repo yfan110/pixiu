{
 "cells": [
  {
   "cell_type": "code",
   "execution_count": 146,
   "metadata": {},
   "outputs": [],
   "source": [
    "import akshare as ak\n",
    "import pandas as pd\n",
    "import numpy as np\n",
    "from datetime import date"
   ]
  },
  {
   "cell_type": "code",
   "execution_count": 265,
   "metadata": {},
   "outputs": [
    {
     "name": "stderr",
     "output_type": "stream",
     "text": [
      "Please wait for a moment: 100%|████████████████████████████████████████████████████████| 54/54 [00:27<00:00,  2.00it/s]\n"
     ]
    }
   ],
   "source": [
    "实时行情数据_df = ak.stock_zh_a_spot()"
   ]
  },
  {
   "cell_type": "code",
   "execution_count": 148,
   "metadata": {},
   "outputs": [],
   "source": [
    "股票代码 = 'sh600157'"
   ]
  },
  {
   "cell_type": "code",
   "execution_count": 264,
   "metadata": {},
   "outputs": [],
   "source": [
    "股票市价     = 实时行情数据_df[实时行情数据_df['代码']== 股票代码]['最新价']    # 股票市价（元）\n",
    "#发行在外股份 =      # 发行在外的股份"
   ]
  },
  {
   "cell_type": "code",
   "execution_count": 226,
   "metadata": {},
   "outputs": [
    {
     "data": {
      "text/plain": [
       "22217764145.0"
      ]
     },
     "execution_count": 226,
     "metadata": {},
     "output_type": "execute_result"
    }
   ],
   "source": [
    "from datetime import date\n",
    "today = date.today()\n",
    "# YYmmdd\n",
    "today = today.strftime(\"%Y%m%d\")\n",
    "历史行情数据_df = ak.stock_zh_a_daily(symbol=股票代码,start_date=today,end_date=today,adjust=\"hfq\")\n",
    "流动股本 = 历史行情数据_df['outstanding_share'][0]    # 流通在外的股份\n",
    "流动股本"
   ]
  },
  {
   "cell_type": "code",
   "execution_count": 237,
   "metadata": {},
   "outputs": [],
   "source": [
    "# 下一年度自由现金流\n",
    "下一年度自由现金流 = 630000000"
   ]
  },
  {
   "cell_type": "code",
   "execution_count": 238,
   "metadata": {},
   "outputs": [],
   "source": [
    "永续年金增长率 = 0.03\n",
    "折现率         = 0.09"
   ]
  },
  {
   "cell_type": "code",
   "execution_count": 286,
   "metadata": {},
   "outputs": [],
   "source": [
    "# N年估值模型\n",
    "N = 10"
   ]
  },
  {
   "cell_type": "code",
   "execution_count": 287,
   "metadata": {},
   "outputs": [
    {
     "data": {
      "text/html": [
       "<div>\n",
       "<style scoped>\n",
       "    .dataframe tbody tr th:only-of-type {\n",
       "        vertical-align: middle;\n",
       "    }\n",
       "\n",
       "    .dataframe tbody tr th {\n",
       "        vertical-align: top;\n",
       "    }\n",
       "\n",
       "    .dataframe thead th {\n",
       "        text-align: right;\n",
       "    }\n",
       "</style>\n",
       "<table border=\"1\" class=\"dataframe\">\n",
       "  <thead>\n",
       "    <tr style=\"text-align: right;\">\n",
       "      <th></th>\n",
       "      <th>年份</th>\n",
       "      <th>自由现金流</th>\n",
       "    </tr>\n",
       "  </thead>\n",
       "  <tbody>\n",
       "    <tr>\n",
       "      <th>0</th>\n",
       "      <td>1</td>\n",
       "      <td>630000000</td>\n",
       "    </tr>\n",
       "    <tr>\n",
       "      <th>1</th>\n",
       "      <td>2</td>\n",
       "      <td>661500000</td>\n",
       "    </tr>\n",
       "    <tr>\n",
       "      <th>2</th>\n",
       "      <td>3</td>\n",
       "      <td>694575000</td>\n",
       "    </tr>\n",
       "    <tr>\n",
       "      <th>3</th>\n",
       "      <td>4</td>\n",
       "      <td>729303750</td>\n",
       "    </tr>\n",
       "    <tr>\n",
       "      <th>4</th>\n",
       "      <td>5</td>\n",
       "      <td>765768938</td>\n",
       "    </tr>\n",
       "    <tr>\n",
       "      <th>5</th>\n",
       "      <td>6</td>\n",
       "      <td>804057384</td>\n",
       "    </tr>\n",
       "    <tr>\n",
       "      <th>6</th>\n",
       "      <td>7</td>\n",
       "      <td>844260254</td>\n",
       "    </tr>\n",
       "    <tr>\n",
       "      <th>7</th>\n",
       "      <td>8</td>\n",
       "      <td>886473266</td>\n",
       "    </tr>\n",
       "    <tr>\n",
       "      <th>8</th>\n",
       "      <td>9</td>\n",
       "      <td>930796930</td>\n",
       "    </tr>\n",
       "    <tr>\n",
       "      <th>9</th>\n",
       "      <td>10</td>\n",
       "      <td>977336776</td>\n",
       "    </tr>\n",
       "  </tbody>\n",
       "</table>\n",
       "</div>"
      ],
      "text/plain": [
       "   年份      自由现金流\n",
       "0   1  630000000\n",
       "1   2  661500000\n",
       "2   3  694575000\n",
       "3   4  729303750\n",
       "4   5  765768938\n",
       "5   6  804057384\n",
       "6   7  844260254\n",
       "7   8  886473266\n",
       "8   9  930796930\n",
       "9  10  977336776"
      ]
     },
     "execution_count": 287,
     "metadata": {},
     "output_type": "execute_result"
    }
   ],
   "source": [
    "# 第一步：预测下一个N年的自由现金流（FCF）\n",
    "# 假设增长率保持5%不变\n",
    "grow_rate=0.05\n",
    "\n",
    "values = [ round(下一年度自由现金流 * (1+grow_rate)**x) for x in range(N) ]\n",
    "years  = [ x+1 for x in range(N) ]\n",
    "# creating a pandas dataframe\n",
    "df = pd.DataFrame({'年份':years,'自由现金流':values})\n",
    "df"
   ]
  },
  {
   "cell_type": "code",
   "execution_count": 288,
   "metadata": {},
   "outputs": [
    {
     "data": {
      "text/html": [
       "<div>\n",
       "<style scoped>\n",
       "    .dataframe tbody tr th:only-of-type {\n",
       "        vertical-align: middle;\n",
       "    }\n",
       "\n",
       "    .dataframe tbody tr th {\n",
       "        vertical-align: top;\n",
       "    }\n",
       "\n",
       "    .dataframe thead th {\n",
       "        text-align: right;\n",
       "    }\n",
       "</style>\n",
       "<table border=\"1\" class=\"dataframe\">\n",
       "  <thead>\n",
       "    <tr style=\"text-align: right;\">\n",
       "      <th></th>\n",
       "      <th>年份</th>\n",
       "      <th>自由现金流</th>\n",
       "      <th>折现因子</th>\n",
       "      <th>折现自由现金流</th>\n",
       "    </tr>\n",
       "  </thead>\n",
       "  <tbody>\n",
       "    <tr>\n",
       "      <th>0</th>\n",
       "      <td>1</td>\n",
       "      <td>630000000</td>\n",
       "      <td>1.090000</td>\n",
       "      <td>5.779817e+08</td>\n",
       "    </tr>\n",
       "    <tr>\n",
       "      <th>1</th>\n",
       "      <td>2</td>\n",
       "      <td>661500000</td>\n",
       "      <td>1.188100</td>\n",
       "      <td>5.567713e+08</td>\n",
       "    </tr>\n",
       "    <tr>\n",
       "      <th>2</th>\n",
       "      <td>3</td>\n",
       "      <td>694575000</td>\n",
       "      <td>1.295029</td>\n",
       "      <td>5.363393e+08</td>\n",
       "    </tr>\n",
       "    <tr>\n",
       "      <th>3</th>\n",
       "      <td>4</td>\n",
       "      <td>729303750</td>\n",
       "      <td>1.411582</td>\n",
       "      <td>5.166572e+08</td>\n",
       "    </tr>\n",
       "    <tr>\n",
       "      <th>4</th>\n",
       "      <td>5</td>\n",
       "      <td>765768938</td>\n",
       "      <td>1.538624</td>\n",
       "      <td>4.976973e+08</td>\n",
       "    </tr>\n",
       "    <tr>\n",
       "      <th>5</th>\n",
       "      <td>6</td>\n",
       "      <td>804057384</td>\n",
       "      <td>1.677100</td>\n",
       "      <td>4.794331e+08</td>\n",
       "    </tr>\n",
       "    <tr>\n",
       "      <th>6</th>\n",
       "      <td>7</td>\n",
       "      <td>844260254</td>\n",
       "      <td>1.828039</td>\n",
       "      <td>4.618393e+08</td>\n",
       "    </tr>\n",
       "    <tr>\n",
       "      <th>7</th>\n",
       "      <td>8</td>\n",
       "      <td>886473266</td>\n",
       "      <td>1.992563</td>\n",
       "      <td>4.448910e+08</td>\n",
       "    </tr>\n",
       "    <tr>\n",
       "      <th>8</th>\n",
       "      <td>9</td>\n",
       "      <td>930796930</td>\n",
       "      <td>2.171893</td>\n",
       "      <td>4.285648e+08</td>\n",
       "    </tr>\n",
       "    <tr>\n",
       "      <th>9</th>\n",
       "      <td>10</td>\n",
       "      <td>977336776</td>\n",
       "      <td>2.367364</td>\n",
       "      <td>4.128376e+08</td>\n",
       "    </tr>\n",
       "  </tbody>\n",
       "</table>\n",
       "</div>"
      ],
      "text/plain": [
       "   年份      自由现金流      折现因子       折现自由现金流\n",
       "0   1  630000000  1.090000  5.779817e+08\n",
       "1   2  661500000  1.188100  5.567713e+08\n",
       "2   3  694575000  1.295029  5.363393e+08\n",
       "3   4  729303750  1.411582  5.166572e+08\n",
       "4   5  765768938  1.538624  4.976973e+08\n",
       "5   6  804057384  1.677100  4.794331e+08\n",
       "6   7  844260254  1.828039  4.618393e+08\n",
       "7   8  886473266  1.992563  4.448910e+08\n",
       "8   9  930796930  2.171893  4.285648e+08\n",
       "9  10  977336776  2.367364  4.128376e+08"
      ]
     },
     "execution_count": 288,
     "metadata": {},
     "output_type": "execute_result"
    }
   ],
   "source": [
    "# 第二步：把这些自由现金流折现成现值\n",
    "# 折现因子=(1+R)^N，其中R是折现率，N是折现的年数\n",
    "df['折现因子']=(1+折现率)**df.年份\n",
    "df['折现自由现金流']=df.自由现金流/df.折现因子\n",
    "df"
   ]
  },
  {
   "cell_type": "code",
   "execution_count": 289,
   "metadata": {},
   "outputs": [
    {
     "data": {
      "text/plain": [
       "9    7.087046e+09\n",
       "dtype: float64"
      ]
     },
     "execution_count": 289,
     "metadata": {},
     "output_type": "execute_result"
    }
   ],
   "source": [
    "# 第三步：计算永续年金价值并把它折现成现值\n",
    "# 永续年金价值 (PV) = YrNFCF * (1+g) / (R-g)，其中g是永续年金增长率，R是折现率\n",
    "YrNFCF = df[df['年份']==N]['自由现金流']   # 第N年的自由现金流\n",
    "永续年金价值 = YrNFCF * (1 + 永续年金增长率) / (折现率 - 永续年金增长率)\n",
    "折现         = 永续年金价值/df[df['年份']==N]['折现因子']\n",
    "折现"
   ]
  },
  {
   "cell_type": "code",
   "execution_count": 290,
   "metadata": {},
   "outputs": [
    {
     "data": {
      "text/plain": [
       "9    12000.05832\n",
       "dtype: float64"
      ]
     },
     "execution_count": 290,
     "metadata": {},
     "output_type": "execute_result"
    }
   ],
   "source": [
    "# 第四步：计算所有者权益合计\n",
    "# N年折现现金流（第二步）加上永续年金的折现值（上一步）\n",
    "所有者权益合计 = df['折现自由现金流'].sum() + 折现\n",
    "所有者权益合计/1000000"
   ]
  },
  {
   "cell_type": "code",
   "execution_count": 291,
   "metadata": {},
   "outputs": [
    {
     "data": {
      "text/plain": [
       "9    0.540111\n",
       "dtype: float64"
      ]
     },
     "execution_count": 291,
     "metadata": {},
     "output_type": "execute_result"
    }
   ],
   "source": [
    "# 第五步：计算每股价值\n",
    "每股价值 = 所有者权益合计 / 流动股本\n",
    "每股价值"
   ]
  },
  {
   "cell_type": "code",
   "execution_count": null,
   "metadata": {},
   "outputs": [],
   "source": []
  }
 ],
 "metadata": {
  "kernelspec": {
   "display_name": "Python 3",
   "language": "python",
   "name": "python3"
  },
  "language_info": {
   "codemirror_mode": {
    "name": "ipython",
    "version": 3
   },
   "file_extension": ".py",
   "mimetype": "text/x-python",
   "name": "python",
   "nbconvert_exporter": "python",
   "pygments_lexer": "ipython3",
   "version": "3.8.8"
  }
 },
 "nbformat": 4,
 "nbformat_minor": 4
}
